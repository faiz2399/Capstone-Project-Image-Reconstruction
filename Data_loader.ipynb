{
 "cells": [
  {
   "cell_type": "code",
   "execution_count": null,
   "id": "4726c002",
   "metadata": {},
   "outputs": [],
   "source": [
    "import numpy as np\n",
    "import matplotlib.pyplot as plt\n",
    "import cv2\n",
    "import pickle\n",
    "from datasets import load_dataset"
   ]
  },
  {
   "cell_type": "code",
   "execution_count": null,
   "id": "9fb4d694",
   "metadata": {},
   "outputs": [],
   "source": [
    "def colored(subset,n):\n",
    "    l = 0\n",
    "    imgs = []\n",
    "    for i in range(len(ds[subset])):\n",
    "        if np.array(ds[subset][i]['image']).shape[-1] == 3: #checking if the image is colored\n",
    "            imgs.append(np.array(ds[subset][i]['image'])) #appending only colored images\n",
    "            l = l + 1     \n",
    "        if l == n: #getting n images in set subset ex: validation, test, or train\n",
    "            return imgs\n",
    "            \n",
    "        "
   ]
  },
  {
   "cell_type": "code",
   "execution_count": null,
   "id": "8d297f4a",
   "metadata": {},
   "outputs": [],
   "source": [
    "ds = load_dataset(\"imagenet-1k\") # loading the dataset"
   ]
  },
  {
   "cell_type": "code",
   "execution_count": null,
   "id": "c257f154",
   "metadata": {},
   "outputs": [],
   "source": [
    "train = colored('train',30000) #calling colored() for train - 30000 images"
   ]
  },
  {
   "cell_type": "code",
   "execution_count": null,
   "id": "1341ae12",
   "metadata": {},
   "outputs": [],
   "source": [
    "file = open('imagenet_subset.pkl', 'wb')\n",
    "\n",
    "# dump images to that file\n",
    "pickle.dump(train, file)\n",
    "\n",
    "# close the file\n",
    "file.close()"
   ]
  },
  {
   "cell_type": "code",
   "execution_count": null,
   "id": "b0c9e44d",
   "metadata": {},
   "outputs": [],
   "source": [
    "test = colored('test',3000)  #calling colored() for test - 3000 images"
   ]
  },
  {
   "cell_type": "code",
   "execution_count": null,
   "id": "3503f88f",
   "metadata": {},
   "outputs": [],
   "source": [
    "file = open('imagenet_testset.pkl', 'wb')\n",
    "\n",
    "# dump images to that file\n",
    "pickle.dump(test, file)\n",
    "\n",
    "# close the file\n",
    "file.close()\n"
   ]
  },
  {
   "cell_type": "code",
   "execution_count": null,
   "id": "4ce6f4f3",
   "metadata": {},
   "outputs": [],
   "source": [
    "val = colored('validation',3000)  #calling colored() for validation - 3000 images"
   ]
  },
  {
   "cell_type": "code",
   "execution_count": null,
   "id": "eddc6311",
   "metadata": {},
   "outputs": [],
   "source": [
    "file = open('imagenet_valset.pkl', 'wb')\n",
    "\n",
    "# dump images to that file\n",
    "pickle.dump(val, file)\n",
    "\n",
    "# close the file\n",
    "file.close()"
   ]
  }
 ],
 "metadata": {
  "kernelspec": {
   "display_name": "Python 3 (ipykernel)",
   "language": "python",
   "name": "python3"
  },
  "language_info": {
   "codemirror_mode": {
    "name": "ipython",
    "version": 3
   },
   "file_extension": ".py",
   "mimetype": "text/x-python",
   "name": "python",
   "nbconvert_exporter": "python",
   "pygments_lexer": "ipython3",
   "version": "3.9.6"
  }
 },
 "nbformat": 4,
 "nbformat_minor": 5
}
