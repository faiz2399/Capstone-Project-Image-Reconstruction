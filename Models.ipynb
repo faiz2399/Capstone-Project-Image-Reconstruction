{
 "cells": [
  {
   "cell_type": "markdown",
   "id": "efed0a21",
   "metadata": {},
   "source": [
    "## Importing libraries"
   ]
  },
  {
   "cell_type": "code",
   "execution_count": 1,
   "id": "6c98b64b",
   "metadata": {},
   "outputs": [],
   "source": [
    "import cv2\n",
    "import numpy as np\n",
    "import matplotlib.pyplot as plt\n",
    "from sklearn.model_selection import train_test_split\n",
    "import tensorflow as tf\n",
    "from tensorflow.keras import Model, Input, regularizers\n",
    "from tensorflow.keras.layers import Dense, Conv2D, MaxPool2D, UpSampling2D, Reshape\n",
    "#from keras.callbacks import ModelCheckpoint, EarlyStopping\n",
    "from tensorflow.keras.callbacks import EarlyStopping\n",
    "from keras.preprocessing import image\n",
    "from tensorflow.keras.utils import load_img,img_to_array\n",
    "import glob\n",
    "from tqdm import tqdm\n",
    "import warnings;\n",
    "warnings.filterwarnings('ignore')\n",
    "import pickle\n",
    "from tensorflow.keras.models import Sequential\n",
    "from tensorflow.keras.layers import Dense,Flatten,Reshape\n",
    "from tensorflow.keras.optimizers import SGD"
   ]
  },
  {
   "cell_type": "markdown",
   "id": "f5026d23",
   "metadata": {},
   "source": [
    "## Reading the resized images"
   ]
  },
  {
   "cell_type": "code",
   "execution_count": 2,
   "id": "cbd887db",
   "metadata": {},
   "outputs": [],
   "source": [
    "file = open('img_x_train.pkl','rb')\n",
    "\n",
    "resized_img_Xtrain = pickle.load(file)\n",
    "\n",
    "file.close()\n",
    "file = open('img_y_train.pkl','rb')\n",
    "\n",
    "resized_img_Ytrain = pickle.load(file)\n",
    "\n",
    "file.close()\n",
    "file = open('img_x_test.pkl','rb')\n",
    "\n",
    "resized_img_Xtest = pickle.load(file)\n",
    "\n",
    "file.close()\n",
    "file = open('img_y_test.pkl','rb')\n",
    "\n",
    "resized_img_Ytest = pickle.load(file)\n",
    "\n",
    "file.close()\n",
    "file = open('img_x_val.pkl','rb')\n",
    "\n",
    "resized_img_Xval = pickle.load(file)\n",
    "\n",
    "file.close()\n",
    "file = open('img_y_val.pkl','rb')\n",
    "\n",
    "resized_img_Yval = pickle.load(file)\n",
    "\n",
    "file.close()"
   ]
  },
  {
   "cell_type": "markdown",
   "id": "2385dac3",
   "metadata": {},
   "source": [
    "## Normalizing the images"
   ]
  },
  {
   "cell_type": "code",
   "execution_count": null,
   "id": "74479153",
   "metadata": {},
   "outputs": [],
   "source": [
    "train_x = np.array(resized_img_Ytrain)\n",
    "train_x = train_x/255.0\n",
    "test_x = np.array(resized_img_Ytest)\n",
    "test_x = test_x/255.0\n",
    "val_x = np.array(resized_img_Yval)\n",
    "val_x = val_x/255.0\n",
    "train_x_px = np.array(resized_img_Xtrain)\n",
    "train_x_px = train_x_px/255.0\n",
    "test_x_px = np.array(resized_img_Xtest)\n",
    "test_x_px = test_x_px/255.0\n",
    "val_x_px = np.array(resized_img_Xval)\n",
    "val_x_px = val_x_px/255.0"
   ]
  },
  {
   "cell_type": "markdown",
   "id": "074cbaaa",
   "metadata": {},
   "source": [
    "## Autoencoder - Fully connected 1 Low risk"
   ]
  },
  {
   "cell_type": "code",
   "execution_count": null,
   "id": "ccc7489e",
   "metadata": {},
   "outputs": [],
   "source": [
    "encoder = Sequential()\n",
    "\n",
    "encoder.add(Flatten(input_shape=[80,80,3]))\n",
    "encoder.add(Dense(9600,activation=\"relu\"))\n",
    "encoder.add(Dense(4800,activation=\"relu\"))\n",
    "encoder.add(Dense(2400,activation=\"relu\"))\n",
    "encoder.add(Dense(1200,activation=\"relu\"))\n",
    "encoder.add(Dense(600,activation=\"relu\"))\n",
    "\n",
    "\n",
    "decoder = Sequential()\n",
    "\n",
    "decoder.add(Dense(1200,input_shape=[600],activation='relu'))\n",
    "decoder.add(Dense(2400,activation='relu'))\n",
    "decoder.add(Dense(4800,activation='relu'))\n",
    "decoder.add(Dense(9600,activation='relu'))\n",
    "decoder.add(Dense(80*80*3,activation='sigmoid',input_shape = [9600]))\n",
    "decoder.add(Reshape([80,80,3]))\n",
    "\n",
    "full_autoencoder = Sequential([encoder,decoder])\n",
    "\n",
    "full_autoencoder.compile(optimizer='adam', loss='mse')\n"
   ]
  },
  {
   "cell_type": "code",
   "execution_count": null,
   "id": "4029d621",
   "metadata": {},
   "outputs": [],
   "source": [
    "early_stopper = EarlyStopping(monitor='val_loss', min_delta=0.0001, patience=4, verbose=1, mode='auto')\n",
    "\n",
    "full_autoencoder.fit(train_x_px, train_x,\n",
    "            epochs=50,\n",
    "            batch_size=32,\n",
    "            shuffle=True,\n",
    "            validation_data=(val_x_px, val_x),\n",
    "            callbacks=[early_stopper]\n",
    "            )"
   ]
  },
  {
   "cell_type": "code",
   "execution_count": null,
   "id": "ec2630a5",
   "metadata": {},
   "outputs": [],
   "source": [
    "predictions = simple_autoencoder.predict(test_x_px)"
   ]
  },
  {
   "cell_type": "code",
   "execution_count": null,
   "id": "061276bb",
   "metadata": {},
   "outputs": [],
   "source": [
    "n = 5\n",
    "plt.figure(figsize= (20,10))\n",
    "\n",
    "for i in range(n):\n",
    "  ax = plt.subplot(2, n, i+1)\n",
    "  plt.imshow(test_x_px[i+10])\n",
    "  ax.get_xaxis().set_visible(False)\n",
    "  ax.get_yaxis().set_visible(False)\n",
    "\n",
    "  ax = plt.subplot(2, n, i+1+n)\n",
    "  plt.imshow(predictions[i+10])\n",
    "  ax.get_xaxis().set_visible(False)\n",
    "  ax.get_yaxis().set_visible(False)\n",
    "\n",
    "plt.show()"
   ]
  },
  {
   "cell_type": "markdown",
   "id": "9dac16a5",
   "metadata": {},
   "source": [
    "## Autoencoder - Fully connected 2 Low risk"
   ]
  },
  {
   "cell_type": "code",
   "execution_count": null,
   "id": "bb98dc64",
   "metadata": {},
   "outputs": [],
   "source": [
    "encoder = Sequential()\n",
    "\n",
    "encoder.add(Flatten(input_shape=[80,80,3]))\n",
    "encoder.add(Dense(9600,activation=\"relu\"))\n",
    "\n",
    "\n",
    "\n",
    "decoder = Sequential()\n",
    "\n",
    "decoder.add(Dense(80*80*3,input_shape=[9600],activation='sigmoid'))\n",
    "\n",
    "decoder.add(Reshape([80,80,3]))\n",
    "\n",
    "simple_autoencoder = Sequential([encoder,decoder])\n",
    "\n"
   ]
  },
  {
   "cell_type": "code",
   "execution_count": null,
   "id": "1b39ad44",
   "metadata": {},
   "outputs": [],
   "source": [
    "early_stopper = EarlyStopping(monitor='val_loss', min_delta=0.0001, patience=4, verbose=1, mode='auto')\n",
    "\n",
    "simple_autoencoder.fit(train_x_px, train_x,\n",
    "            epochs=50,\n",
    "            batch_size=32,\n",
    "            shuffle=True,\n",
    "            validation_data=(val_x_px, val_x),\n",
    "            callbacks=[early_stopper]\n",
    "            )"
   ]
  },
  {
   "cell_type": "code",
   "execution_count": null,
   "id": "5a9eb75c",
   "metadata": {},
   "outputs": [],
   "source": [
    "predictions = simple_autoencoder.predict(test_x_px)"
   ]
  },
  {
   "cell_type": "code",
   "execution_count": null,
   "id": "cfd979cb",
   "metadata": {},
   "outputs": [],
   "source": [
    "n = 5\n",
    "plt.figure(figsize= (20,10))\n",
    "\n",
    "for i in range(n):\n",
    "  ax = plt.subplot(2, n, i+1)\n",
    "  plt.imshow(test_x_px[i+10])\n",
    "  ax.get_xaxis().set_visible(False)\n",
    "  ax.get_yaxis().set_visible(False)\n",
    "\n",
    "  ax = plt.subplot(2, n, i+1+n)\n",
    "  plt.imshow(predictions[i+10])\n",
    "  ax.get_xaxis().set_visible(False)\n",
    "  ax.get_yaxis().set_visible(False)\n",
    "\n",
    "plt.show()"
   ]
  },
  {
   "cell_type": "code",
   "execution_count": null,
   "id": "5680416c",
   "metadata": {},
   "outputs": [],
   "source": [
    "simple_autoencoder.save('simple_autoencoder.h5')"
   ]
  },
  {
   "cell_type": "markdown",
   "id": "9e80e05c",
   "metadata": {},
   "source": [
    "### Convulation encoder High risk"
   ]
  },
  {
   "cell_type": "code",
   "execution_count": null,
   "id": "ca853324",
   "metadata": {},
   "outputs": [],
   "source": [
    "Input_img = Input(shape=(80, 80, 3))  \n",
    "   \n",
    "#encoding architecture\n",
    "x1 = Conv2D(256, (3, 3), activation='relu', padding='same')(Input_img)\n",
    "x2 = Conv2D(128, (3, 3), activation='relu', padding='same')(x1)\n",
    "x2 = MaxPool2D( (2, 2))(x2)\n",
    "encoded = Conv2D(64, (3, 3), activation='relu', padding='same')(x2)\n",
    "\n",
    "# decoding architecture\n",
    "x3 = Conv2D(64, (3, 3), activation='relu', padding='same')(encoded)\n",
    "x3 = UpSampling2D((2, 2))(x3)\n",
    "x2 = Conv2D(128, (3, 3), activation='relu', padding='same')(x3)\n",
    "x1 = Conv2D(256, (3, 3), activation='relu', padding='same')(x2)\n",
    "decoded = Conv2D(3, (3, 3), padding='same')(x1)\n",
    "\n",
    "autoencoder = Model(Input_img, decoded)\n",
    "autoencoder.compile(optimizer='adam', loss='mse')\n"
   ]
  },
  {
   "cell_type": "code",
   "execution_count": null,
   "id": "c7fafaab",
   "metadata": {},
   "outputs": [],
   "source": [
    "early_stopper = EarlyStopping(monitor='val_loss', min_delta=0.0001, patience=4, verbose=1, mode='auto')\n",
    "\n",
    "autoencoder.fit(train_x_px, train_x,\n",
    "            epochs=50,\n",
    "            batch_size=32,\n",
    "            shuffle=True,\n",
    "            validation_data=(val_x_px, val_x),\n",
    "            callbacks=[early_stopper]\n",
    "            )"
   ]
  },
  {
   "cell_type": "code",
   "execution_count": null,
   "id": "745d55a9",
   "metadata": {},
   "outputs": [],
   "source": []
  }
 ],
 "metadata": {
  "kernelspec": {
   "display_name": "Python 3.10 (tensorflow)",
   "language": "python",
   "name": "tensorflow"
  },
  "language_info": {
   "codemirror_mode": {
    "name": "ipython",
    "version": 3
   },
   "file_extension": ".py",
   "mimetype": "text/x-python",
   "name": "python",
   "nbconvert_exporter": "python",
   "pygments_lexer": "ipython3",
   "version": "3.10.8"
  }
 },
 "nbformat": 4,
 "nbformat_minor": 5
}
