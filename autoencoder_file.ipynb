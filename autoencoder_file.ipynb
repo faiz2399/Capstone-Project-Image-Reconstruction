{
 "cells": [
  {
   "cell_type": "markdown",
   "metadata": {},
   "source": [
    "## Importing libraries"
   ]
  },
  {
   "cell_type": "code",
   "execution_count": null,
   "metadata": {
    "id": "6sGiJTSiYXsb"
   },
   "outputs": [],
   "source": [
    "import cv2\n",
    "import numpy as np\n",
    "import matplotlib.pyplot as plt\n",
    "from sklearn.model_selection import train_test_split\n",
    "import tensorflow as tf\n",
    "from tensorflow.keras import Model, Input, regularizers\n",
    "from tensorflow.keras.layers import Dense, Conv2D, MaxPool2D, UpSampling2D, Reshape\n",
    "from tensorflow.keras.callbacks import EarlyStopping\n",
    "from keras.preprocessing import image\n",
    "from tensorflow.keras.utils import load_img,img_to_array\n",
    "import glob\n",
    "from tqdm import tqdm\n",
    "import warnings;\n",
    "warnings.filterwarnings('ignore')\n",
    "import pickle\n",
    "from tensorflow.keras.models import Sequential\n",
    "from tensorflow.keras.layers import Dense,Flatten,Reshape\n",
    "from tensorflow.keras.optimizers import SGD"
   ]
  },
  {
   "cell_type": "markdown",
   "metadata": {},
   "source": [
    "## Loading blei"
   ]
  },
  {
   "cell_type": "code",
   "execution_count": null,
   "metadata": {
    "id": "hocds-ciqWs4"
   },
   "outputs": [],
   "source": [
    "\n",
    "file = open('blemished_train.pkl','rb')\n",
    "\n",
    "X_train = pickle.load(file)\n",
    "file.close()"
   ]
  },
  {
   "cell_type": "code",
   "execution_count": null,
   "metadata": {
    "id": "NwaUgkHjwXSI"
   },
   "outputs": [],
   "source": [
    "file = open('imagenet_subset.pkl','rb')\n",
    "\n",
    "y_train = pickle.load(file)\n",
    "# y_train = y_train[3000:6000]\n",
    "\n",
    "file.close()"
   ]
  },
  {
   "cell_type": "code",
   "execution_count": null,
   "metadata": {
    "id": "mzhKw2dIwf6u"
   },
   "outputs": [],
   "source": [
    "file = open('blemished_test.pkl','rb')\n",
    "\n",
    "X_test = pickle.load(file)\n",
    "\n",
    "file.close()"
   ]
  },
  {
   "cell_type": "code",
   "execution_count": null,
   "metadata": {
    "id": "UotHgRAQwl0C"
   },
   "outputs": [],
   "source": [
    "file = open('imagenet_testset.pkl','rb')\n",
    "\n",
    "y_test = pickle.load(file)\n",
    "# y_test = y_test[300:600]\n",
    "\n",
    "file.close()"
   ]
  },
  {
   "cell_type": "code",
   "execution_count": null,
   "metadata": {
    "id": "OSn_MIK3mYDI"
   },
   "outputs": [],
   "source": [
    "file = open('blemished_val.pkl','rb')\n",
    "\n",
    "X_val = pickle.load(file)\n",
    "# y_test = y_test[300:600]\n",
    "\n",
    "file.close()"
   ]
  },
  {
   "cell_type": "code",
   "execution_count": null,
   "metadata": {
    "id": "lDnhvNSHmXL7"
   },
   "outputs": [],
   "source": [
    "file = open('imagenet_valset.pkl','rb')\n",
    "\n",
    "y_val = pickle.load(file)\n",
    "# y_test = y_test[300:600]\n",
    "\n",
    "file.close()"
   ]
  },
  {
   "cell_type": "code",
   "execution_count": null,
   "metadata": {
    "id": "nrS8_JY7XBBG"
   },
   "outputs": [],
   "source": [
    "import cv2\n",
    "import pandas as pd"
   ]
  },
  {
   "cell_type": "code",
   "execution_count": null,
   "metadata": {
    "id": "O3-IQK5hXCpQ"
   },
   "outputs": [],
   "source": [
    "def resize_images(img, new_width, new_height):\n",
    "    size = (new_width, new_height)\n",
    "    resized_img = cv2.resize(img, size)\n",
    "    return resized_img"
   ]
  },
  {
   "cell_type": "code",
   "execution_count": null,
   "metadata": {
    "id": "J_7Yi40SXGJv"
   },
   "outputs": [],
   "source": [
    "resized_img_Xtrain = [resize_images(img, new_width=80, new_height=80) for img in X_train]\n",
    "resized_img_Ytrain = [resize_images(img, new_width=80, new_height=80) for img in y_train]\n",
    "resized_img_Xtest = [resize_images(img, new_width=80, new_height=80) for img in X_test]\n",
    "resized_img_Ytest = [resize_images(img, new_width=80, new_height=80) for img in y_test]\n",
    "resized_img_Xval = [resize_images(img, new_width=80, new_height=80) for img in X_val]\n",
    "resized_img_Yval = [resize_images(img, new_width=80, new_height=80) for img in y_val]"
   ]
  },
  {
   "cell_type": "code",
   "execution_count": null,
   "metadata": {
    "colab": {
     "base_uri": "https://localhost:8080/",
     "height": 286
    },
    "id": "LhIQhUQGXduG",
    "outputId": "bb338d54-541d-4815-a70d-f28dcaf9ec10"
   },
   "outputs": [],
   "source": [
    "plt.imshow(resized_img_Xval[0])"
   ]
  },
  {
   "cell_type": "code",
   "execution_count": null,
   "metadata": {
    "id": "RB47v9MXy4Hk"
   },
   "outputs": [],
   "source": [
    "# for i in range(len(resized_img_Yval)):\n",
    "#   if resized_img_Yval[i].shape[-1] != 3:\n",
    "#     pass\n",
    "\n",
    "#   print(resized_img_Yval[i].shape)"
   ]
  },
  {
   "cell_type": "code",
   "execution_count": null,
   "metadata": {
    "id": "dCD-X2JqZUUc"
   },
   "outputs": [],
   "source": [
    "# get low resolution images for the training set\n",
    "# train_x_px = []\n",
    "train_x = np.array(resized_img_Ytrain)\n",
    "train_x = train_x/255.0\n",
    "test_x = np.array(resized_img_Ytest)\n",
    "test_x = test_x/255.0\n",
    "val_x = np.array(resized_img_Yval)\n",
    "val_x = val_x/255.0\n",
    "# for i in range(np.array(train_x).shape[0]):\n",
    "#   temp = pixalate_image(train_x[i,:,:,:])\n",
    "#   train_x_px.append(temp)\n",
    "\n",
    "train_x_px = np.array(resized_img_Xtrain)\n",
    "train_x_px = train_x_px/255.0\n",
    "\n",
    "\n",
    "# get low resolution images for the validation set\n",
    "# val_x_px = []\n",
    "\n",
    "# for i in range(val_x.shape[0]):\n",
    "#   temp = pixalate_image(val_x[i,:,:,:])\n",
    "#   val_x_px.append(temp)\n",
    "\n",
    "test_x_px = np.array(resized_img_Xtest)\n",
    "test_x_px = test_x_px/255.0\n",
    "\n",
    "val_x_px = np.array(resized_img_Xval)\n",
    "val_x_px = val_x_px/255.0"
   ]
  },
  {
   "cell_type": "code",
   "execution_count": null,
   "metadata": {
    "id": "JSc7hLuNKZFy"
   },
   "outputs": [],
   "source": [
    "encoder = Sequential()\n",
    "\n",
    "encoder.add(Flatten(input_shape=[80,80,3]))\n",
    "encoder.add(Dense(9600,activation=\"relu\"))\n",
    "encoder.add(Dense(4800,activation=\"relu\"))\n",
    "encoder.add(Dense(2400,activation=\"relu\"))\n",
    "encoder.add(Dense(1200,activation=\"relu\"))\n",
    "encoder.add(Dense(600,activation=\"relu\"))\n",
    "\n",
    "\n",
    "decoder = Sequential()\n",
    "\n",
    "decoder.add(Dense(1200,input_shape=[600],activation='relu'))\n",
    "decoder.add(Dense(2400,activation='relu'))\n",
    "decoder.add(Dense(4800,activation='relu'))\n",
    "decoder.add(Dense(9600,activation='relu'))\n",
    "decoder.add(Dense(80*80*3,activation='sigmoid',input_shape = [9600]))\n",
    "decoder.add(Reshape([80,80,3]))\n",
    "\n",
    "simple_autoencoder = Sequential([encoder,decoder])\n",
    "\n",
    "autoencoder.compile(optimizer='adam', loss='mse')\n"
   ]
  },
  {
   "cell_type": "code",
   "execution_count": null,
   "metadata": {
    "colab": {
     "base_uri": "https://localhost:8080/",
     "height": 818
    },
    "id": "6FvKow_6ZUKL",
    "outputId": "334f3c39-7894-40ba-b032-16b3ba3a4b54"
   },
   "outputs": [],
   "source": [
    "early_stopper = EarlyStopping(monitor='val_loss', min_delta=0.0001, patience=4, verbose=1, mode='auto')\n",
    "\n",
    "simple_autoencoder.fit(train_x_px, train_x,\n",
    "            epochs=50,\n",
    "            batch_size=32,\n",
    "            shuffle=True,\n",
    "            validation_data=(val_x_px, val_x),\n",
    "            callbacks=[early_stopper]\n",
    "            )"
   ]
  },
  {
   "cell_type": "code",
   "execution_count": null,
   "metadata": {},
   "outputs": [],
   "source": [
    "Input_img = Input(shape=(80, 80, 3))  \n",
    "# Reshape_img = Reshape((80, 80), input_shape=(128,128))(Input_img)    \n",
    "#encoding architecture\n",
    "x1 = Conv2D(256, (3, 3), activation='relu', padding='same')(Input_img)\n",
    "x2 = Conv2D(128, (3, 3), activation='relu', padding='same')(x1)\n",
    "x2 = MaxPool2D( (2, 2))(x2)\n",
    "encoded = Conv2D(64, (3, 3), activation='relu', padding='same')(x2)\n",
    "\n",
    "# decoding architecture\n",
    "x3 = Conv2D(64, (3, 3), activation='relu', padding='same')(encoded)\n",
    "x3 = UpSampling2D((2, 2))(x3)\n",
    "x2 = Conv2D(128, (3, 3), activation='relu', padding='same')(x3)\n",
    "x1 = Conv2D(256, (3, 3), activation='relu', padding='same')(x2)\n",
    "decoded = Conv2D(3, (3, 3), padding='same')(x1)\n",
    "\n",
    "autoencoder = Model(Input_img, decoded)\n",
    "sgd = tf.keras.optimizers.SGD(lr=0.01, decay=1e-6, momentum=0.5, nesterov=True)\n",
    "autoencoder.compile(optimizer=sgd, loss='mse')"
   ]
  },
  {
   "cell_type": "code",
   "execution_count": null,
   "metadata": {},
   "outputs": [],
   "source": [
    "early_stopper = EarlyStopping(monitor='val_loss', min_delta=0.0001, patience=4, verbose=1, mode='auto')\n",
    "\n",
    "autoencoder.fit(train_x_px, train_x,\n",
    "            epochs=50,\n",
    "            batch_size=32,\n",
    "            shuffle=True,\n",
    "            validation_data=(val_x_px, val_x),\n",
    "            callbacks=[early_stopper]\n",
    "            )"
   ]
  },
  {
   "cell_type": "code",
   "execution_count": null,
   "metadata": {
    "id": "RGA0XMmSYXer"
   },
   "outputs": [],
   "source": [
    "predictions = autoencoder.predict(test_x_px)"
   ]
  },
  {
   "cell_type": "code",
   "execution_count": null,
   "metadata": {
    "id": "jBHyxYUnqnsJ"
   },
   "outputs": [],
   "source": [
    "predictions.shape"
   ]
  },
  {
   "cell_type": "code",
   "execution_count": null,
   "metadata": {
    "id": "8SSuhEGsaYiX"
   },
   "outputs": [],
   "source": [
    "n = 5\n",
    "plt.figure(figsize= (20,10))\n",
    "\n",
    "for i in range(n):\n",
    "  ax = plt.subplot(2, n, i+1)\n",
    "  plt.imshow(test_x_px[i+10])\n",
    "  ax.get_xaxis().set_visible(False)\n",
    "  ax.get_yaxis().set_visible(False)\n",
    "\n",
    "  ax = plt.subplot(2, n, i+1+n)\n",
    "  plt.imshow(predictions[i+10])\n",
    "  ax.get_xaxis().set_visible(False)\n",
    "  ax.get_yaxis().set_visible(False)\n",
    "\n",
    "plt.show()"
   ]
  },
  {
   "cell_type": "code",
   "execution_count": null,
   "metadata": {
    "id": "ij1SLjUvaYQq"
   },
   "outputs": [],
   "source": []
  },
  {
   "cell_type": "code",
   "execution_count": null,
   "metadata": {
    "id": "UUt8MRbIaX6x"
   },
   "outputs": [],
   "source": []
  },
  {
   "cell_type": "code",
   "execution_count": null,
   "metadata": {
    "id": "rWZuItVGaX4b"
   },
   "outputs": [],
   "source": []
  },
  {
   "cell_type": "code",
   "execution_count": null,
   "metadata": {
    "id": "24Spm8eQLwCB"
   },
   "outputs": [],
   "source": [
    "# encoder = tf.keras.models.Sequential()\n",
    "\n",
    "# encoder.add(tf.keras.layers.Conv2D(32, 3, strides=1, padding='same', activation='relu', input_shape=(128,128,3)))\n",
    "# encoder.add(tf.keras.layers.MaxPooling2D(2, strides=2))\n",
    "\n",
    "# encoder.add(tf.keras.layers.Conv2D(64, 3, strides=1, padding='same', activation='relu'))\n",
    "# encoder.add(tf.keras.layers.MaxPooling2D(2, strides=2))\n",
    "\n",
    "# encoder.add(tf.keras.layers.Conv2D(128, 3, strides=1, padding='same', activation='relu'))\n",
    "# encoder.add(tf.keras.layers.MaxPooling2D(2, strides=2))\n",
    "\n",
    "# encoder.summary()\n"
   ]
  },
  {
   "cell_type": "code",
   "execution_count": null,
   "metadata": {
    "id": "JhzXjlvTMMhZ"
   },
   "outputs": [],
   "source": [
    "# decoder = tf.keras.models.models.Sequential()\n",
    "\n",
    "# decoder.add(tf.keras.models.layers.Conv2DTranspose(128, 3, strides=1, padding='same', activation='relu', input_shape= (16,16,128)))\n",
    "# decoder.add(tf.keras.models.layers.2D(2))\n",
    "\n",
    "# decoder.add(tf.keras.models.layers.Conv2D(16, 3, strides=1, padding='same', activation='relu'))\n",
    "# decoder.add(tf.keras.models.layers.UpSampling2D(2))\n",
    "\n",
    "# decoder.add(tf.keras.models.layers.Conv2D(3, 3, strides=1, padding='same', activation='relu'))\n",
    "# decoder.add(tf.keras.models.layers.UpSampling2D(2))\n",
    "\n",
    "# decoder.summary()"
   ]
  },
  {
   "cell_type": "code",
   "execution_count": null,
   "metadata": {
    "id": "Nu-nKC-nWLFG"
   },
   "outputs": [],
   "source": [
    "# import numpy as np\n",
    "# from keras.layers import UpSampling2D,Conv2DTranspose\n",
    "# from keras.models import Sequential\n",
    "# model = Sequential()\n",
    "# model.add(Conv2DTranspose(2, 3, input_shape=(3,3,1)))\n",
    "\n",
    "# x = np.arange(9).reshape(1,3,3,1)\n",
    "# x[0,:,:,0]  # this is what x looks like initially\n",
    "\n",
    "# y = model.predict(x)\n",
    "# y[0,:,:,0] # this is what it looks like after upsampling"
   ]
  },
  {
   "cell_type": "code",
   "execution_count": null,
   "metadata": {
    "id": "TC3ZPTMGXCwe"
   },
   "outputs": [],
   "source": [
    "# import numpy as np\n",
    "# from keras.layers import UpSampling2D,Conv2DTranspose\n",
    "# from keras.models import Sequential\n",
    "# model = Sequential()\n",
    "# # model.add(Conv2DTranspose(2, 3, input_shape=(3,3,1)))\n",
    "# model.add(UpSampling2D(size=(2,2), input_shape=(3,3,1)))\n",
    "\n",
    "# x = np.arange(9).reshape(1,3,3,1)\n",
    "# x[0,:,:,0]  # this is what x looks like initially\n",
    "\n",
    "# y = model.predict(x)\n",
    "# y[0,:,:,0] # this is what it looks like after upsampling"
   ]
  },
  {
   "cell_type": "code",
   "execution_count": null,
   "metadata": {
    "id": "bPiUbQGxYD9R"
   },
   "outputs": [],
   "source": [
    "df = pd.DataFrame(a_e.history)"
   ]
  },
  {
   "cell_type": "code",
   "execution_count": null,
   "metadata": {
    "id": "qDlfQ5ySJbzH"
   },
   "outputs": [],
   "source": [
    "df.plot()"
   ]
  },
  {
   "cell_type": "code",
   "execution_count": null,
   "metadata": {
    "id": "X7uAEG_8KRpr"
   },
   "outputs": [],
   "source": []
  }
 ],
 "metadata": {
  "accelerator": "GPU",
  "colab": {
   "provenance": []
  },
  "gpuClass": "standard",
  "kernelspec": {
   "display_name": "Python 3 (ipykernel)",
   "language": "python",
   "name": "python3"
  },
  "language_info": {
   "codemirror_mode": {
    "name": "ipython",
    "version": 3
   },
   "file_extension": ".py",
   "mimetype": "text/x-python",
   "name": "python",
   "nbconvert_exporter": "python",
   "pygments_lexer": "ipython3",
   "version": "3.9.6"
  }
 },
 "nbformat": 4,
 "nbformat_minor": 1
}
